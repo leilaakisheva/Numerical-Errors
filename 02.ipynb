{
  "nbformat": 4,
  "nbformat_minor": 0,
  "metadata": {
    "colab": {
      "provenance": []
    },
    "kernelspec": {
      "name": "python3",
      "display_name": "Python 3"
    },
    "language_info": {
      "name": "python"
    }
  },
  "cells": [
    {
      "cell_type": "markdown",
      "source": [
        "# **Assignment 2**\n",
        "### **Abstract**\n",
        "This study examines relative error of the Taylor Approximation due to the actual values of the function $e^{-x}$  where:\n",
        "$$e^{-x} = ∑ \\limits_{n=0}^{∞} \\frac {(-1)^n}{n!} x^n$$\n",
        "The purpose is to study the behaviour of the error function with respect to  order of the approximation. It was found that as the value of variable increases, it requires a higher order of approximation to reduce error.\n",
        "### **Introduction**\n",
        "When a mathematical operation is approximated, relative error occurs. Because of systems' memory, speed, and/or incapacity to complete an infinite number of operations in a finite amount of time, those approximations can be be estimated using python. In this assignment we are asked to analyze errors with respect to the value of order and see how the error function behaves.\n"
      ],
      "metadata": {
        "id": "vx53pG5sbT4j"
      }
    },
    {
      "cell_type": "markdown",
      "source": [
        "### **Methods**\n",
        "First, I import all the neccessary packages and defined a Maclaurin expansion of the function $e^{-x}$. I created a function $e(x, N)$, so I could use it later in code. Also, I created a function *error* and *plot*, because I tried to make my code more flexible."
      ],
      "metadata": {
        "id": "CPmSuGSVfPKr"
      }
    },
    {
      "cell_type": "code",
      "execution_count": null,
      "metadata": {
        "id": "L2gum_XoIJes"
      },
      "outputs": [],
      "source": [
        "#importing packages\n",
        "import numpy as np\n",
        "import scipy.special as scs\n",
        "import matplotlib.pyplot as plt\n",
        "import math\n",
        "%matplotlib inline"
      ]
    },
    {
      "cell_type": "code",
      "source": [
        "#defining function e^-x\n",
        "def e(x,N):\n",
        "  if N<0: #It is not possible to take negative value as factorial\n",
        "    print(\"Wrong input of the order of series. Please try again.\")\n",
        "    N = int(input('Enter the order of Maclaurin series: '))\n",
        "  elif int(N)!=N: #checking if the inputed number is an integer value\n",
        "    print(\"Wrong format of the number. Please enter the int value.\")\n",
        "    N = int(input('Enter the order of Maclaurin series: '))\n",
        "  return np.sum([((((-x)**i))/math.factorial(i)) for i in range(N+1)])"
      ],
      "metadata": {
        "id": "Qhi9IncIIKtc"
      },
      "execution_count": null,
      "outputs": []
    },
    {
      "cell_type": "code",
      "source": [
        "#Computing error using the expected value (true value) of exp and computed in the code\n",
        "#delta variable represents a relative error\n",
        "def error(x, t):\n",
        "  V_e = np.exp(-x)\n",
        "  V_a = e(x,t)\n",
        "  delta = abs((V_a-V_e)/V_e)\n",
        "  return delta"
      ],
      "metadata": {
        "id": "CLm5YnTgL6eq"
      },
      "execution_count": null,
      "outputs": []
    },
    {
      "cell_type": "code",
      "source": [
        "#defining a function to create a plot\n",
        "def plot(val, N):\n",
        "  x = np.arange(1, N+1, 1)\n",
        "  y = np.zeros(N)\n",
        "  V_e = np.exp(-val)\n",
        "  V_a = np.zeros(N)\n",
        "  for n in range(1,N+1):\n",
        "    V_a[n-1] = e(val,n)\n",
        "    y[n-1] = error(val, n)\n",
        "    if y[n-1]<10**(-14) and y[n-1]>=10**(-15):#to find the values where the relative error is 10^-15 order\n",
        "          print(\"For x =\", val, \", at the value of order n =\", n, \", the relative error attain the value of \", error(val, n))\n",
        "    if y[n-1]==0: #since the python cannot go further 10^-17 it sometimes give 0 as the value\n",
        "      y[n-1]=y[n-2]\n",
        "  plt.plot(x,y)\n",
        "  plt.yscale(\"log\")\n",
        "  plt.xlabel(\"Value of order\")\n",
        "  plt.ylabel(\"Relative error\")"
      ],
      "metadata": {
        "id": "XfjMaYrpQIhb"
      },
      "execution_count": null,
      "outputs": []
    },
    {
      "cell_type": "markdown",
      "source": [
        "Now, I test my code using random input values:"
      ],
      "metadata": {
        "id": "uVANe-_6g-G0"
      }
    },
    {
      "cell_type": "code",
      "source": [
        "#inputing values of variables\n",
        "t = int(input('Enter the order of Maclaurin series: '))\n",
        "x = float(input('Enter the va2lue of x: '))\n",
        "print(\"The value of Taylor approximation is\", e(x,t))\n",
        "print('Expected value of exp(-x)', np.exp(-x))\n",
        "print('Relative error is ', error(x, t))"
      ],
      "metadata": {
        "colab": {
          "base_uri": "https://localhost:8080/"
        },
        "id": "O6MJvJ2WINcx",
        "outputId": "00b6cccb-fd6f-4963-8d9e-f863f378acad"
      },
      "execution_count": null,
      "outputs": [
        {
          "output_type": "stream",
          "name": "stdout",
          "text": [
            "Enter the order of Maclaurin series: 25\n",
            "Enter the va2lue of x: 2\n",
            "The value of Taylor approximation is 0.13533528323661273\n",
            "Expected value of exp(-x) 0.1353352832366127\n",
            "Relative error is  2.0508750528199364e-16\n"
          ]
        }
      ]
    },
    {
      "cell_type": "markdown",
      "source": [
        "And according to the part **e** of the assignment, I used my function *plot* for various values of the variable x. Variable N represents the order of approximation."
      ],
      "metadata": {
        "id": "CxvCuhGphFlv"
      }
    },
    {
      "cell_type": "code",
      "source": [
        "#assigning values of x and plotting errors on one graph\n",
        "N=29\n",
        "plot(0.3, N)\n",
        "plot(1, N)\n",
        "plot(2.0, N)\n",
        "plt.legend(['x=0.3', 'x=1', 'x=2'])"
      ],
      "metadata": {
        "colab": {
          "base_uri": "https://localhost:8080/",
          "height": 348
        },
        "id": "MEDCn_3fbXea",
        "outputId": "8c3f6b0e-fc77-497e-d906-e3111ba6df99"
      },
      "execution_count": null,
      "outputs": [
        {
          "output_type": "stream",
          "name": "stdout",
          "text": [
            "For x = 0.3 , at the value of order n = 11 , the relative error attain the value of  1.6485087609803311e-15\n",
            "For x = 1 , at the value of order n = 16 , the relative error attain the value of  7.544747683438505e-15\n",
            "For x = 2.0 , at the value of order n = 22 , the relative error attain the value of  1.2305250316919619e-15\n"
          ]
        },
        {
          "output_type": "execute_result",
          "data": {
            "text/plain": [
              "<matplotlib.legend.Legend at 0x7fe523bd80d0>"
            ]
          },
          "metadata": {},
          "execution_count": 158
        },
        {
          "output_type": "display_data",
          "data": {
            "text/plain": [
              "<Figure size 432x288 with 1 Axes>"
            ],
            "image/png": "[encoded data removed]"
          },
          "metadata": {
            "needs_background": "light"
          }
        }
      ]
    },
    {
      "cell_type": "markdown",
      "source": [
        "### **Results**\n",
        "As it can be seen, the graph of the error between approximation and the actual value of $e^{-0.3}$ is more sharp and the error decreases faster, comparing to the other graphs. Moreover, it can be noticed that as the values of $x$ increases, the order required to reduce error also increses. That is, for $x=0.3$, the order is 11, for $x=1$, the order is 16, and for $x=2$, the order is 22. However, it is supprising to observe that at some point the error start to steadly increase. Which means that there is a specific point at which it is possible to achieve the minimum possible error."
      ],
      "metadata": {
        "id": "5MAkKY-3iJUc"
      }
    },
    {
      "cell_type": "markdown",
      "source": [
        "### **Conclusion**\n",
        "In this assignment the main goal was to observe the behaviour of the error function as the x and order of approximation increases. As it was found both the order and values of x play a significant role in the behaviour of the error function."
      ],
      "metadata": {
        "id": "dA2GXJdFjeil"
      }
    }
  ]
}